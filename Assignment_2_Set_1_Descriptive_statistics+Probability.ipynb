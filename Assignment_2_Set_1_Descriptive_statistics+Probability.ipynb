{
  "nbformat": 4,
  "nbformat_minor": 0,
  "metadata": {
    "colab": {
      "name": "Assignment 2 -Set 1-Descriptive statistics+Probability.ipynb",
      "provenance": [],
      "collapsed_sections": []
    },
    "kernelspec": {
      "name": "python3",
      "display_name": "Python 3"
    },
    "language_info": {
      "name": "python"
    }
  },
  "cells": [
    {
      "cell_type": "markdown",
      "metadata": {
        "id": "wX5HyaSfWpeD"
      },
      "source": [
        "Q.1\tLook at the data given below. Plot the data, find the outliers and find out  μ,σ,σ^2\n"
      ]
    },
    {
      "cell_type": "code",
      "metadata": {
        "id": "13AF6CaRWrA2"
      },
      "source": [
        "import numpy as np\n",
        "import pandas as pd\n",
        "import matplotlib.pyplot as plt\n",
        "import seaborn as sns\n",
        "%matplotlib inline"
      ],
      "execution_count": null,
      "outputs": []
    },
    {
      "cell_type": "code",
      "metadata": {
        "id": "_r0UrPHDXRYW"
      },
      "source": [
        "x=pd.Series([24.23,25.53,25.41,24.14,29.62,28.25,25.81,24.39,40.26,32.95,91.36,25.99,39.42,26.71,35.00])"
      ],
      "execution_count": null,
      "outputs": []
    },
    {
      "cell_type": "code",
      "metadata": {
        "id": "fa8UqogXXWeB"
      },
      "source": [
        "company_name=['Allied Signal','Bankers Trust','General Mills','ITT Industries','J.P.Morgan & Co.','Lehman Brothers',\n",
        "      'Marriott','MCI','Merrill Lynch','Microsoft','Morgan Stanley','Sun Microsystems','Travelers','US Airways',\n",
        "      'Warner-Lambert']"
      ],
      "execution_count": null,
      "outputs": []
    },
    {
      "cell_type": "code",
      "metadata": {
        "colab": {
          "base_uri": "https://localhost:8080/",
          "height": 337
        },
        "id": "GPhMB2t_Xfdf",
        "outputId": "f52c97db-1b98-46b2-ffe6-90cc6ca1eddc"
      },
      "source": [
        "\n",
        "sns.boxplot(x)"
      ],
      "execution_count": null,
      "outputs": [
        {
          "output_type": "stream",
          "name": "stderr",
          "text": [
            "/usr/local/lib/python3.7/dist-packages/seaborn/_decorators.py:43: FutureWarning: Pass the following variable as a keyword arg: x. From version 0.12, the only valid positional argument will be `data`, and passing other arguments without an explicit keyword will result in an error or misinterpretation.\n",
            "  FutureWarning\n"
          ]
        },
        {
          "output_type": "execute_result",
          "data": {
            "text/plain": [
              "<matplotlib.axes._subplots.AxesSubplot at 0x7f11a150b050>"
            ]
          },
          "metadata": {},
          "execution_count": 7
        },
        {
          "output_type": "display_data",
          "data": {
            "image/png": "[encoded data removed]",
            "text/plain": [
              "<Figure size 432x288 with 1 Axes>"
            ]
          },
          "metadata": {
            "needs_background": "light"
          }
        }
      ]
    },
    {
      "cell_type": "markdown",
      "metadata": {
        "id": "C6iVcJszXpSq"
      },
      "source": [
        "Here, we can see there is one outlier present in the data."
      ]
    },
    {
      "cell_type": "code",
      "metadata": {
        "id": "HXmDOdZeXvpI"
      },
      "source": [
        "u=x.mean()"
      ],
      "execution_count": null,
      "outputs": []
    },
    {
      "cell_type": "code",
      "metadata": {
        "id": "KlwW7dmAYAYq"
      },
      "source": [
        "var=x.var()"
      ],
      "execution_count": null,
      "outputs": []
    },
    {
      "cell_type": "code",
      "metadata": {
        "id": "ChayBjUwYHWn"
      },
      "source": [
        "std=x.std()"
      ],
      "execution_count": null,
      "outputs": []
    },
    {
      "cell_type": "code",
      "metadata": {
        "colab": {
          "base_uri": "https://localhost:8080/"
        },
        "id": "UDzAgGYYYIH2",
        "outputId": "0b0b32b9-145c-4705-ede6-135c754444ff"
      },
      "source": [
        "print('u=',u,'u2=',var,'sigma=',std)"
      ],
      "execution_count": null,
      "outputs": [
        {
          "output_type": "stream",
          "name": "stdout",
          "text": [
            "u= 33.27133333333333 u2= 287.1466123809524 sigma= 16.945400921222028\n"
          ]
        }
      ]
    }
  ]
}